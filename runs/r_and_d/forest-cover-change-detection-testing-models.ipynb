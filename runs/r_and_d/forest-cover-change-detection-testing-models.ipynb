{
 "metadata": {
  "kernelspec": {
   "language": "python",
   "display_name": "Python 3",
   "name": "python3"
  },
  "language_info": {
   "name": "python",
   "version": "3.10.12",
   "mimetype": "text/x-python",
   "codemirror_mode": {
    "name": "ipython",
    "version": 3
   },
   "pygments_lexer": "ipython3",
   "nbconvert_exporter": "python",
   "file_extension": ".py"
  }
 },
 "nbformat_minor": 4,
 "nbformat": 4,
 "cells": [
  {
   "cell_type": "code",
   "source": [
    "import warnings\n",
    "\n",
    "warnings.filterwarnings(action='ignore')\n",
    "\n",
    "import numpy as np\n",
    "import pandas as pd\n",
    "\n",
    "# from notebooks.r_and_d.model_results_vis import vis_models_prediction\n",
    "from runs.r_and_d.metrics import (training_summary, metric_summary,\n",
    "                                  training_curves, model_heatmap)\n",
    "from runs.r_and_d.model_results_vis import vis_models_prediction"
   ],
   "metadata": {
    "_uuid": "8f2839f25d086af736a60e9eeb907d3b93b6e0e5",
    "_cell_guid": "b1076dfc-b9ad-4769-8c92-a6c4dae69d19",
    "execution": {
     "iopub.status.busy": "2023-11-16T08:45:33.684952Z",
     "iopub.execute_input": "2023-11-16T08:45:33.685381Z",
     "iopub.status.idle": "2023-11-16T08:45:37.378537Z",
     "shell.execute_reply.started": "2023-11-16T08:45:33.685344Z",
     "shell.execute_reply": "2023-11-16T08:45:37.377755Z"
    },
    "trusted": true
   },
   "execution_count": null,
   "outputs": []
  },
  {
   "cell_type": "markdown",
   "source": [
    "### Loading metrical data"
   ],
   "metadata": {
    "collapsed": false
   }
  },
  {
   "cell_type": "code",
   "execution_count": null,
   "outputs": [],
   "source": [
    "single_in = metric_summary('./v2')\n",
    "multi_in = metric_summary('./v2/multi_in')\n",
    "single_in_ch_at = metric_summary('./v2/with_ch_at')\n",
    "single_in_spa_at = metric_summary('./v2/with_sp_at')\n",
    "single_in_comb_at = metric_summary('./v2/comb_chsp_at')\n",
    "\n",
    "comp_df = pd.concat((single_in,\n",
    "                     multi_in,\n",
    "                     single_in_ch_at,\n",
    "                     single_in_spa_at,\n",
    "                     single_in_comb_at))\n",
    "\n",
    "# save table\n",
    "comp_df.to_csv('./metrics.csv', index=True)"
   ],
   "metadata": {
    "collapsed": false
   }
  },
  {
   "cell_type": "code",
   "execution_count": null,
   "outputs": [],
   "source": [
    "single_att = pd.concat((single_in_ch_at,\n",
    "                        single_in_spa_at,\n",
    "                        single_in_comb_at))"
   ],
   "metadata": {
    "collapsed": false
   }
  },
  {
   "cell_type": "code",
   "execution_count": null,
   "outputs": [],
   "source": [
    "single_in.to_csv('./single_in_blocks_comp.csv')"
   ],
   "metadata": {
    "collapsed": false
   }
  },
  {
   "cell_type": "code",
   "execution_count": null,
   "outputs": [],
   "source": [
    "single_att.to_csv('./single_in_at_gates.csv')"
   ],
   "metadata": {
    "collapsed": false
   }
  },
  {
   "cell_type": "code",
   "execution_count": null,
   "outputs": [],
   "source": [
    "multi_in.to_csv('./multi_in.csv')"
   ],
   "metadata": {
    "collapsed": false
   }
  },
  {
   "cell_type": "code",
   "execution_count": null,
   "outputs": [],
   "source": [
    "t1, v1 = training_summary('./v2/')\n",
    "t2, v2 = training_summary('./v2/with_ch_at')\n",
    "t3, v3 = training_summary('./v2/multi_in')\n",
    "t4, v4 = training_summary('./v2/with_sp_at')\n",
    "t5, v5 = training_summary('./v2/comb_chsp_at')\n",
    "\n",
    "t = pd.concat((t1, t2, t3, t4, t5), axis=1)\n",
    "v = pd.concat((v1, v2, v3, v4, v5), axis=1)"
   ],
   "metadata": {
    "collapsed": false
   }
  },
  {
   "cell_type": "markdown",
   "source": [
    "### Visualization"
   ],
   "metadata": {
    "collapsed": false
   }
  },
  {
   "cell_type": "code",
   "execution_count": null,
   "outputs": [],
   "source": [
    "training_curves(np.log(t), np.log(v))"
   ],
   "metadata": {
    "collapsed": false
   }
  },
  {
   "cell_type": "code",
   "execution_count": null,
   "outputs": [],
   "source": [
    "model_heatmap(comp_df, fig_size=(12, 24))"
   ],
   "metadata": {
    "collapsed": false
   }
  },
  {
   "cell_type": "code",
   "execution_count": null,
   "outputs": [],
   "source": [
    "from skimage.io import imread\n",
    "from matplotlib import pyplot as plt\n",
    "import torch\n",
    "import numpy as np"
   ],
   "metadata": {
    "collapsed": false
   }
  },
  {
   "cell_type": "code",
   "execution_count": null,
   "outputs": [],
   "source": [
    "img = imread('../../data/OSCD/annotated/abudhabi_575.tiff')"
   ],
   "metadata": {
    "collapsed": false
   }
  },
  {
   "cell_type": "code",
   "execution_count": null,
   "outputs": [],
   "source": [
    "plt.imshow(np.swapaxes(img, 0, 2)[:, :, 3:6])"
   ],
   "metadata": {
    "collapsed": false
   }
  },
  {
   "cell_type": "code",
   "execution_count": null,
   "outputs": [],
   "source": [
    "img[:, :, 6:].shape"
   ],
   "metadata": {
    "collapsed": false
   }
  },
  {
   "cell_type": "code",
   "execution_count": null,
   "outputs": [],
   "source": [
    "img_tn = torch.from_numpy(img)\n",
    "img_tn.shape"
   ],
   "metadata": {
    "collapsed": false
   }
  },
  {
   "cell_type": "code",
   "execution_count": null,
   "outputs": [],
   "source": [
    "patches = img_tn.unfold(1, 128, 128).unfold(2, 128, 128)\n",
    "patches.shape"
   ],
   "metadata": {
    "collapsed": false
   }
  },
  {
   "cell_type": "code",
   "execution_count": null,
   "outputs": [],
   "source": [
    "patches = patches.reshape(7, 4, 128, 128)"
   ],
   "metadata": {
    "collapsed": false
   }
  },
  {
   "cell_type": "code",
   "execution_count": null,
   "outputs": [],
   "source": [
    "# plt.imshow()\n",
    "plt.imshow(patches[6:, 0, ::].permute(1, 2, 0))"
   ],
   "metadata": {
    "collapsed": false
   }
  },
  {
   "cell_type": "code",
   "execution_count": null,
   "outputs": [],
   "source": [],
   "metadata": {
    "collapsed": false
   }
  }
 ]
}
