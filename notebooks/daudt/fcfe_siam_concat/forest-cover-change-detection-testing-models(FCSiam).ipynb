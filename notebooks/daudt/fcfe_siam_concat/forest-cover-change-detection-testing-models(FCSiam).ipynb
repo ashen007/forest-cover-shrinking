{
 "metadata": {
  "kernelspec": {
   "language": "python",
   "display_name": "Python 3",
   "name": "python3"
  },
  "language_info": {
   "name": "python",
   "version": "3.10.12",
   "mimetype": "text/x-python",
   "codemirror_mode": {
    "name": "ipython",
    "version": 3
   },
   "pygments_lexer": "ipython3",
   "nbconvert_exporter": "python",
   "file_extension": ".py"
  }
 },
 "nbformat_minor": 4,
 "nbformat": 4,
 "cells": [
  {
   "cell_type": "code",
   "source": [
    "import warnings\n",
    "\n",
    "warnings.filterwarnings(action='ignore')\n",
    "\n",
    "import torch\n",
    "import pandas as pd\n",
    "import matplotlib.pyplot as plt\n",
    "\n",
    "from forest_cover_change_detection.models.fc_siam import FCSiam\n",
    "from notebooks.daudt.net_trainer import get_img_trio"
   ],
   "metadata": {
    "_uuid": "8f2839f25d086af736a60e9eeb907d3b93b6e0e5",
    "_cell_guid": "b1076dfc-b9ad-4769-8c92-a6c4dae69d19",
    "execution": {
     "iopub.status.busy": "2023-11-16T08:45:33.684952Z",
     "iopub.execute_input": "2023-11-16T08:45:33.685381Z",
     "iopub.status.idle": "2023-11-16T08:45:37.378537Z",
     "shell.execute_reply.started": "2023-11-16T08:45:33.685344Z",
     "shell.execute_reply": "2023-11-16T08:45:37.377755Z"
    },
    "trusted": true,
    "ExecuteTime": {
     "end_time": "2023-11-23T15:18:15.690315100Z",
     "start_time": "2023-11-23T15:18:13.775393Z"
    }
   },
   "execution_count": 1,
   "outputs": []
  },
  {
   "cell_type": "code",
   "execution_count": null,
   "outputs": [],
   "source": [
    "df = pd.read_csv('../../../data/annotated/test.csv')\n",
    "results = pd.read_csv('./results.csv')\n",
    "metrics = pd.read_csv('./metric_eval.csv')"
   ],
   "metadata": {
    "collapsed": false
   }
  },
  {
   "cell_type": "code",
   "execution_count": null,
   "outputs": [],
   "source": [
    "plt.figure(figsize=(12, 6), dpi=200)\n",
    "results.loc[:, ['train loss', 'val loss']].plot()\n",
    "plt.show()"
   ],
   "metadata": {
    "collapsed": false
   }
  },
  {
   "cell_type": "code",
   "execution_count": null,
   "outputs": [],
   "source": [
    "metrics.describe().T"
   ],
   "metadata": {
    "collapsed": false
   }
  },
  {
   "cell_type": "code",
   "execution_count": null,
   "outputs": [],
   "source": [
    "model = FCSiam(6, 2, False)\n",
    "state = torch.load(f\"./last-checkpoint.pth\")\n",
    "model.load_state_dict(state['model_state_dict'])\n",
    "model = model.cuda()"
   ],
   "metadata": {
    "collapsed": false
   }
  },
  {
   "cell_type": "code",
   "execution_count": null,
   "outputs": [],
   "source": [
    "img_1, img_2, label, dir = df.sample(1).values.tolist()[0]\n",
    "img1, img2, gt = get_img_trio(f'../../../data/annotated/{dir}/{img_1}',\n",
    "                              f'../../../data/annotated/{dir}/{img_2}',\n",
    "                              f'../../../data/annotated/{label}')\n",
    "\n",
    "with torch.no_grad():\n",
    "    model.eval()\n",
    "    logits = model(img1.unsqueeze(0).to('cuda'),\n",
    "                   img2.unsqueeze(0).to('cuda'))[0].cpu()\n",
    "    pred = torch.argmax(torch.sigmoid(logits), dim=0)\n",
    "\n",
    "plt.figure(figsize=(16, 10))\n",
    "plt.subplot(1, 4, 1)\n",
    "plt.imshow(img1.permute(1, 2, 0), cmap='gray')\n",
    "plt.subplot(1, 4, 3)\n",
    "plt.imshow(gt, cmap='gray')\n",
    "plt.subplot(1, 4, 2)\n",
    "plt.imshow(img2.permute(1, 2, 0), cmap='gray')\n",
    "plt.subplot(1, 4, 4)\n",
    "plt.imshow(pred, cmap='gray')"
   ],
   "metadata": {
    "collapsed": false
   }
  }
 ]
}
